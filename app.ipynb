{
 "cells": [
  {
   "cell_type": "code",
   "execution_count": 9,
   "id": "3b9f345e",
   "metadata": {},
   "outputs": [],
   "source": [
    "import yfinance as yf\n",
    "from sklearn.model_selection import train_test_split\n",
    "from sklearn.linear_model import LinearRegression\n",
    "from sklearn.metrics import mean_squared_error, r2_score\n",
    "import pandas as pd"
   ]
  },
  {
   "cell_type": "code",
   "execution_count": 5,
   "id": "e8afe6f3",
   "metadata": {},
   "outputs": [
    {
     "name": "stderr",
     "output_type": "stream",
     "text": [
      "[*********************100%***********************]  1 of 1 completed\n"
     ]
    },
    {
     "data": {
      "text/html": [
       "<div>\n",
       "<style scoped>\n",
       "    .dataframe tbody tr th:only-of-type {\n",
       "        vertical-align: middle;\n",
       "    }\n",
       "\n",
       "    .dataframe tbody tr th {\n",
       "        vertical-align: top;\n",
       "    }\n",
       "\n",
       "    .dataframe thead th {\n",
       "        text-align: right;\n",
       "    }\n",
       "</style>\n",
       "<table border=\"1\" class=\"dataframe\">\n",
       "  <thead>\n",
       "    <tr style=\"text-align: right;\">\n",
       "      <th></th>\n",
       "      <th>Close</th>\n",
       "      <th>High</th>\n",
       "      <th>Low</th>\n",
       "      <th>Open</th>\n",
       "      <th>Volume</th>\n",
       "    </tr>\n",
       "    <tr>\n",
       "      <th>Datetime</th>\n",
       "      <th></th>\n",
       "      <th></th>\n",
       "      <th></th>\n",
       "      <th></th>\n",
       "      <th></th>\n",
       "    </tr>\n",
       "  </thead>\n",
       "  <tbody>\n",
       "    <tr>\n",
       "      <th>2025-05-12 09:35:00+00:00</th>\n",
       "      <td>24905.699219</td>\n",
       "      <td>24912.500000</td>\n",
       "      <td>24898.349609</td>\n",
       "      <td>24909.500000</td>\n",
       "      <td>0</td>\n",
       "    </tr>\n",
       "    <tr>\n",
       "      <th>2025-05-12 09:40:00+00:00</th>\n",
       "      <td>24907.449219</td>\n",
       "      <td>24915.050781</td>\n",
       "      <td>24905.150391</td>\n",
       "      <td>24905.750000</td>\n",
       "      <td>0</td>\n",
       "    </tr>\n",
       "    <tr>\n",
       "      <th>2025-05-12 09:45:00+00:00</th>\n",
       "      <td>24941.000000</td>\n",
       "      <td>24944.199219</td>\n",
       "      <td>24904.750000</td>\n",
       "      <td>24906.050781</td>\n",
       "      <td>0</td>\n",
       "    </tr>\n",
       "    <tr>\n",
       "      <th>2025-05-12 09:50:00+00:00</th>\n",
       "      <td>24934.000000</td>\n",
       "      <td>24943.650391</td>\n",
       "      <td>24928.650391</td>\n",
       "      <td>24941.449219</td>\n",
       "      <td>0</td>\n",
       "    </tr>\n",
       "    <tr>\n",
       "      <th>2025-05-12 09:55:00+00:00</th>\n",
       "      <td>24920.250000</td>\n",
       "      <td>24935.449219</td>\n",
       "      <td>24920.250000</td>\n",
       "      <td>24932.900391</td>\n",
       "      <td>0</td>\n",
       "    </tr>\n",
       "  </tbody>\n",
       "</table>\n",
       "</div>"
      ],
      "text/plain": [
       "                                  Close          High           Low  \\\n",
       "Datetime                                                              \n",
       "2025-05-12 09:35:00+00:00  24905.699219  24912.500000  24898.349609   \n",
       "2025-05-12 09:40:00+00:00  24907.449219  24915.050781  24905.150391   \n",
       "2025-05-12 09:45:00+00:00  24941.000000  24944.199219  24904.750000   \n",
       "2025-05-12 09:50:00+00:00  24934.000000  24943.650391  24928.650391   \n",
       "2025-05-12 09:55:00+00:00  24920.250000  24935.449219  24920.250000   \n",
       "\n",
       "                                   Open  Volume  \n",
       "Datetime                                         \n",
       "2025-05-12 09:35:00+00:00  24909.500000       0  \n",
       "2025-05-12 09:40:00+00:00  24905.750000       0  \n",
       "2025-05-12 09:45:00+00:00  24906.050781       0  \n",
       "2025-05-12 09:50:00+00:00  24941.449219       0  \n",
       "2025-05-12 09:55:00+00:00  24932.900391       0  "
      ]
     },
     "execution_count": 5,
     "metadata": {},
     "output_type": "execute_result"
    }
   ],
   "source": [
    "stock=\"^NSEI\"\n",
    "df=yf.download(stock,period=\"60d\",interval=\"5m\")\n",
    "df.columns = ['Close', 'High', 'Low', 'Open', 'Volume']\n",
    "df.tail()"
   ]
  },
  {
   "cell_type": "code",
   "execution_count": null,
   "id": "64309c15",
   "metadata": {},
   "outputs": [
    {
     "name": "stdout",
     "output_type": "stream",
     "text": [
      "Mean Squared Error: 397.9421518227812\n",
      "R-squared: 0.9992722710133176\n"
     ]
    }
   ],
   "source": [
    "X = df[['Open']]  \n",
    "y = df['Close']   \n",
    "\n",
    "X_train, X_test, y_train, y_test = train_test_split(X, y, test_size=0.2, random_state=42)\n",
    "\n",
    "model = LinearRegression()\n",
    "model.fit(X_train, y_train)\n",
    "\n",
    "y_pred = model.predict(X_test)\n",
    "\n",
    "mse = mean_squared_error(y_test, y_pred)\n",
    "r2 = r2_score(y_test, y_pred)\n",
    "\n",
    "print(f\"Mean Squared Error: {mse}\")\n",
    "print(f\"R-squared: {r2}\")"
   ]
  },
  {
   "cell_type": "code",
   "execution_count": null,
   "id": "8e4fe9c1",
   "metadata": {},
   "outputs": [
    {
     "name": "stdout",
     "output_type": "stream",
     "text": [
      "Predicted 'Close' price: 24565.11842107437\n"
     ]
    }
   ],
   "source": [
    "user_input = float(input(\"Enter the 'Open' price: \"))\n",
    "\n",
    "input_data = pd.DataFrame({'Open': [user_input]})\n",
    "\n",
    "predicted_close = model.predict(input_data)\n",
    "\n",
    "print(f\"Predicted 'Close' price: {predicted_close[0]}\")"
   ]
  }
 ],
 "metadata": {
  "kernelspec": {
   "display_name": "Python 3",
   "language": "python",
   "name": "python3"
  },
  "language_info": {
   "codemirror_mode": {
    "name": "ipython",
    "version": 3
   },
   "file_extension": ".py",
   "mimetype": "text/x-python",
   "name": "python",
   "nbconvert_exporter": "python",
   "pygments_lexer": "ipython3",
   "version": "3.12.1"
  }
 },
 "nbformat": 4,
 "nbformat_minor": 5
}
